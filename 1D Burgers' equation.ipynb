{
 "cells": [
  {
   "cell_type": "code",
   "execution_count": 1,
   "metadata": {},
   "outputs": [
    {
     "data": {
      "image/png": "[encoded data removed]",
      "text/latex": [
       "$$e^{- \\frac{\\left(- 4 t + x - 2 \\pi\\right)^{2}}{4 \\nu \\left(t + 1\\right)}} + e^{- \\frac{\\left(- 4 t + x\\right)^{2}}{4 \\nu \\left(t + 1\\right)}}$$"
      ],
      "text/plain": [
       "                  2                2 \n",
       " -(-4⋅t + x - 2⋅π)      -(-4⋅t + x)  \n",
       " ───────────────────    ─────────────\n",
       "     4⋅ν⋅(t + 1)         4⋅ν⋅(t + 1) \n",
       "ℯ                    + ℯ             "
      ]
     },
     "execution_count": 1,
     "metadata": {},
     "output_type": "execute_result"
    }
   ],
   "source": [
    "import numpy\n",
    "import sympy\n",
    "from sympy.utilities.lambdify import lambdify\n",
    "import matplotlib\n",
    "from matplotlib import pyplot\n",
    "%matplotlib inline\n",
    "\n",
    "from sympy import init_printing\n",
    "init_printing(use_latex = True)\n",
    "\n",
    "x, nu, t = sympy.symbols('x nu t')\n",
    "\n",
    "phi = sympy.exp((-(x - 4 * t) ** 2) / (4 * nu * (t + 1))) + sympy.exp(-(x - 4 * t - 2 * sympy.pi) ** 2 / (4 * nu * (t + 1)))\n",
    "phi"
   ]
  },
  {
   "cell_type": "code",
   "execution_count": 2,
   "metadata": {},
   "outputs": [
    {
     "data": {
      "image/png": "[encoded data removed]",
      "text/latex": [
       "$$- \\frac{\\left(- 8 t + 2 x\\right) e^{- \\frac{\\left(- 4 t + x\\right)^{2}}{4 \\nu \\left(t + 1\\right)}}}{4 \\nu \\left(t + 1\\right)} - \\frac{\\left(- 8 t + 2 x - 4 \\pi\\right) e^{- \\frac{\\left(- 4 t + x - 2 \\pi\\right)^{2}}{4 \\nu \\left(t + 1\\right)}}}{4 \\nu \\left(t + 1\\right)}$$"
      ],
      "text/plain": [
       "                           2                                         2 \n",
       "                -(-4⋅t + x)                         -(-4⋅t + x - 2⋅π)  \n",
       "                ─────────────                       ───────────────────\n",
       "                 4⋅ν⋅(t + 1)                            4⋅ν⋅(t + 1)    \n",
       "  (-8⋅t + 2⋅x)⋅ℯ                (-8⋅t + 2⋅x - 4⋅π)⋅ℯ                   \n",
       "- ─────────────────────────── - ───────────────────────────────────────\n",
       "          4⋅ν⋅(t + 1)                         4⋅ν⋅(t + 1)              "
      ]
     },
     "execution_count": 2,
     "metadata": {},
     "output_type": "execute_result"
    }
   ],
   "source": [
    "phi_prime = phi.diff(x)\n",
    "phi_prime"
   ]
  },
  {
   "cell_type": "code",
   "execution_count": 3,
   "metadata": {},
   "outputs": [],
   "source": [
    "u = -2 * nu * (phi_prime / phi) + 4\n",
    "\n",
    "u_func = lambdify((t, x, nu), u)"
   ]
  },
  {
   "cell_type": "code",
   "execution_count": 4,
   "metadata": {},
   "outputs": [],
   "source": [
    "# declare steps and so on\n",
    "nx = 101\n",
    "dx = 2 * numpy.pi / (nx - 1)\n",
    "\n",
    "nt = 100\n",
    "nu = 0.07\n",
    "dt = dx * nu\n",
    "\n",
    "x = numpy.linspace(0, 2 * numpy.pi, nx)\n",
    "un = numpy.empty(nx)\n",
    "t = 0\n",
    "\n",
    "u = numpy.asarray([u_func(t, x0, nu) for x0 in x])"
   ]
  },
  {
   "cell_type": "code",
   "execution_count": 5,
   "metadata": {},
   "outputs": [
    {
     "data": {
      "image/png": "[encoded data removed]",
      "text/plain": [
       "<Figure size 432x288 with 1 Axes>"
      ]
     },
     "metadata": {
      "needs_background": "light"
     },
     "output_type": "display_data"
    }
   ],
   "source": [
    "pyplot.plot(x, u, marker = 'o', lw = 1.5)\n",
    "pyplot.ylim([0, 10]);"
   ]
  },
  {
   "cell_type": "code",
   "execution_count": 6,
   "metadata": {},
   "outputs": [],
   "source": [
    "for n in range(nt):\n",
    "    un = u.copy()\n",
    "    \n",
    "    for i in range(1, nx - 1):\n",
    "        u[i] = un[i] - un[i]  * dt / dx * (un[i] - un[i - 1]) + nu * dt / dx ** 2 * (un[i + 1] - 2 * un[i] + un[i - 1])\n",
    "    \n",
    "    u[0] = un[0] - un[0] * dt / dx * (un[0] - un[-2]) + nu * dt / dx ** 2 * (un[1] - 2 * un[0] + un[-2])\n",
    "    \n",
    "    u[-1] = u[0]\n",
    "    \n",
    "u_analytical = numpy.asarray([u_func(nt * dt, x1, nu) for x1 in x])"
   ]
  },
  {
   "cell_type": "code",
   "execution_count": 7,
   "metadata": {},
   "outputs": [
    {
     "data": {
      "image/png": "[encoded data removed]",
      "text/plain": [
       "<Figure size 432x288 with 1 Axes>"
      ]
     },
     "metadata": {
      "needs_background": "light"
     },
     "output_type": "display_data"
    }
   ],
   "source": [
    "pyplot.plot(x, u, marker = 'o', lw = 2, label = 'Computational')\n",
    "pyplot.plot(x, u_analytical, label = 'Analytical')\n",
    "pyplot.xlim([0, 2 * numpy.pi])\n",
    "pyplot.ylim([0, 10])\n",
    "pyplot.legend();"
   ]
  },
  {
   "cell_type": "code",
   "execution_count": null,
   "metadata": {},
   "outputs": [],
   "source": []
  },
  {
   "cell_type": "code",
   "execution_count": null,
   "metadata": {},
   "outputs": [],
   "source": []
  }
 ],
 "metadata": {
  "kernelspec": {
   "display_name": "Python 3",
   "language": "python",
   "name": "python3"
  },
  "language_info": {
   "codemirror_mode": {
    "name": "ipython",
    "version": 3
   },
   "file_extension": ".py",
   "mimetype": "text/x-python",
   "name": "python",
   "nbconvert_exporter": "python",
   "pygments_lexer": "ipython3",
   "version": "3.7.1"
  }
 },
 "nbformat": 4,
 "nbformat_minor": 2
}
