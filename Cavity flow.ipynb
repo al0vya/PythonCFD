{
 "cells": [
  {
   "cell_type": "code",
   "execution_count": null,
   "metadata": {},
   "outputs": [],
   "source": [
    "# imports as per\n",
    "\n",
    "import numpy\n",
    "from matplotlib import pyplot, cm\n",
    "from mpl_toolkits.mplot3d import Axes3D"
   ]
  },
  {
   "cell_type": "code",
   "execution_count": null,
   "metadata": {},
   "outputs": [],
   "source": [
    "# variable declaration\n",
    "\n",
    "nx = 41\n",
    "ny = 41\n",
    "nt = 500\n",
    "\n",
    "nit = 50\n",
    "\n",
    "c = 1\n",
    "\n",
    "dx = 2 / (nx - 1)\n",
    "dy = 2 / (ny - 1)\n",
    "dt = 0.001\n",
    "\n",
    "x = numpy.linspace(0, 2, nx)\n",
    "y = numpy.linspace(0, 2, ny)\n",
    "\n",
    "X, Y = numpy.meshgrid(x, y)\n",
    "\n",
    "rho = 1\n",
    "nu = 0.1\n",
    "\n",
    "u = numpy.zeros((ny, nx))\n",
    "v = numpy.zeros((ny, nx))\n",
    "p = numpy.zeros((ny, nx))\n",
    "b = numpy.zeros((ny, nx))"
   ]
  },
  {
   "cell_type": "code",
   "execution_count": null,
   "metadata": {},
   "outputs": [],
   "source": [
    "# define a function that outputs the terms in the square brackets in the pressure equations\n",
    "\n",
    "def build_b(dx, dy, dt, u, v, rho, b):\n",
    "    \n",
    "    b[1:-1, 1:-1] = ((rho * dx ** 2 * dy ** 2) / (2 * (dx ** 2 + dy ** 2)) \n",
    "                     \n",
    "                     * ((1 / dt) * ((u[1:-1, 2:] - u[1:-1, 0:-2]) / (2 * dx) + (v[2:, 1:-1] - v[0:-2, 1:-1]) / (2 * dy)\n",
    "                                    \n",
    "                                    - ((u[1:-1, 2:] - u[1:-1, 0:-2]) / (2 * dx)) ** 2\n",
    "                                    \n",
    "                                    - 2 * (u[2:, 1:-1] - u[0:-2, 1:-1]) / (2 * dy) * (v[1:-1, 2:] - v[1:-1, 0:-2]) / (2 * dx)\n",
    "                                    \n",
    "                                    - ((v[2:, 1:-1] - v[0:-2, 1:-1]) / (2 * dy)) ** 2)))\n",
    "    \n",
    "    return b"
   ]
  },
  {
   "cell_type": "code",
   "execution_count": 1,
   "metadata": {},
   "outputs": [],
   "source": [
    "# iterative function to get the pressure field\n",
    "\n",
    "def pressure_poission(dx, dy, b, p):\n",
    "    \n",
    "    pn = numpy.empty_like(p)\n",
    "    \n",
    "    for n in range(nit):\n",
    "        \n",
    "        pn = p.copy()     \n",
    "        \n",
    "        p[1:-1, 1:-1] = (((pn[1:-1, 2:] - pn[1:-1, 0:-2]) * dy ** 2 + \n",
    "                         \n",
    "                         (pn[2:, 1:-1] - pn[0:-2, 1:-1]) * dx ** 2) / (2 * (dx ** 2 + dy ** 2)) -\n",
    "                        \n",
    "                        b[1:-1, 1:-1])\n",
    "        \n",
    "        p[-1, :] = 0 # p = 0 at y = 0\n",
    "        p[0, :] = p[1, :] # dp/dy = 0 at y = 0\n",
    "        p[:, 0] = p[:, 1] # dp/dx = 0 at x = 0\n",
    "        p[:, -1] = p[:, -2] # dp/dx = 0 at x = 2\n",
    "        \n",
    "        return p"
   ]
  },
  {
   "cell_type": "code",
   "execution_count": null,
   "metadata": {},
   "outputs": [],
   "source": [
    "def build_u(dx, dy, dt, u, v, p, nu):\n",
    "    \n",
    "    u[1:-1, 1:-1] = (u[1:-1, 1:-1] - u[1:-1, 1:-1] * (dt / dx) * (u[1:-1, 1:-1] - u[1:-1, 0:-2]) -\n",
    "                     \n",
    "                                     v[1:-1, 1:-1] * (dt / dy) * (u[1:-1, 1:-1] - u[0:-2, 1:-1]) -\n",
    "                    \n",
    "                                     (dt / (2 * rho * dx)) * (p[1:-1, 2:] - p[1:-1, 0:-2]) +\n",
    "                    \n",
    "                    nu * ( (dt / dx ** 2) * (u[1:-1, 2:] - u[1:-1, 1:-1] + u[1:-1, 0:-2]) +\n",
    "                          \n",
    "                           (dt / dy ** 2) * (u[2: , 1:-1] - u[1:-1, 1:-1] + u[0:-2, 1:-1])))"
   ]
  },
  {
   "cell_type": "code",
   "execution_count": null,
   "metadata": {},
   "outputs": [],
   "source": []
  }
 ],
 "metadata": {
  "kernelspec": {
   "display_name": "Python 3",
   "language": "python",
   "name": "python3"
  },
  "language_info": {
   "codemirror_mode": {
    "name": "ipython",
    "version": 3
   },
   "file_extension": ".py",
   "mimetype": "text/x-python",
   "name": "python",
   "nbconvert_exporter": "python",
   "pygments_lexer": "ipython3",
   "version": "3.7.1"
  }
 },
 "nbformat": 4,
 "nbformat_minor": 2
}
